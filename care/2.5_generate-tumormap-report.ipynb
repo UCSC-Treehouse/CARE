{
 "cells": [
  {
   "cell_type": "markdown",
   "metadata": {
    "deletable": true,
    "editable": true
   },
   "source": [
    "Create the standard \"Tumormap Report\" with link to a tumormap URL\n",
    "Output ends up in this script\n",
    "\n",
    "\n",
    "Modified from :\n",
    "report_on_local_neighborhoods.py by Yulia Newton\n",
    "\n",
    "md5 of original script:\n",
    "ac61f51b7dee830df54d8d59608c1c45  report_on_local_neighborhoods.py\n",
    "\n",
    "#### Inputs\n",
    "Depends on steps:\n",
    "* 2.0\n",
    "    - json tumormap_results\n",
    "\n",
    "\n",
    "\n",
    "#### Outputs\n",
    "\n",
    "Json results include keys:\n",
    "\n",
    " - calculated_nof1_url - string\n",
    " - calculated_nof1_and_mcs_url - string\n",
    " - most_similar_samples - array of sample IDs\n",
    " - mcs_threshold_status - dict - sample id : string- blank or \"failed threshold\" or \"pivot sample\"\n",
    " - mcs_above_threshold_url - string\n",
    " - attribute_info - array of strings - the raw info from clinical files\n",
    " - centroid_y - float\n",
    " - centroid_x - float\n",
    " - pivot_sample - string - pivot sample ID\n",
    " - nof1_original_url - string\n",
    " - mcs_only_url - string \n",
    " - median_local_neighborhood_similarity - float\n",
    " - mcs_clinical_data - dict - sample id : { clin key : value, } - only from clinical.tsv\n"
   ]
  },
  {
   "cell_type": "code",
   "execution_count": null,
   "metadata": {
    "collapsed": false,
    "deletable": true,
    "editable": true
   },
   "outputs": [],
   "source": [
    "import optparse, sys, os\n",
    "import operator\n",
    "import numpy\n",
    "import json\n",
    "import logging\n",
    "import csv\n",
    "\n",
    "# Setup: load conf, retrieve sample ID, logging\n",
    "with open(\"conf.json\",\"r\") as conf:\n",
    "    c=json.load(conf)\n",
    "sample_id = c[\"sample_id\"]    \n",
    "print(\"Running on sample: {}\".format(sample_id))\n",
    "\n",
    "logging.basicConfig(**c[\"info\"][\"logging_config\"])\n",
    "logging.info(\"\\n2.5: Generate Tumormap Report\")\n",
    "def and_log(s):\n",
    "    logging.info(s)\n",
    "    return s\n",
    "\n",
    "# Input : requires json from step 2.0\n",
    "with open(c[\"json\"][\"2.0\"],\"r\") as jf:\n",
    "    json_2pt0 = json.load(jf)\n",
    "        \n",
    "j = {}"
   ]
  },
  {
   "cell_type": "code",
   "execution_count": null,
   "metadata": {
    "collapsed": true,
    "deletable": true,
    "editable": true
   },
   "outputs": [],
   "source": [
    "# Set up the \"printreport\" function.\n",
    "# This will print the passed text, as well as append it to the tumormap report.\n",
    "def create_print_append(outfile):\n",
    "    def print_append(text):\n",
    "        with open(outfile, \"a+\") as out:\n",
    "            print >> out, text\n",
    "        print text\n",
    "    return print_append\n",
    "\n",
    "print_report = create_print_append(c[\"file\"][\"tumormap_report\"])"
   ]
  },
  {
   "cell_type": "code",
   "execution_count": null,
   "metadata": {
    "collapsed": false,
    "deletable": true,
    "editable": true
   },
   "outputs": [],
   "source": [
    "tumormap_report_text = []\n",
    "\n",
    "#process input arguments:\n",
    "in_sample = sample_id\n",
    "in_euclidean_positions = c[\"tumormap\"][\"xy_coords\"]\n",
    "\n",
    "# Get all files in the cohort clinical data dir\n",
    "attribute_files = []\n",
    "for f in sorted(os.listdir(c[\"dir\"][\"cohort_clinical\"])):\n",
    "    path_f = os.path.join(c[\"dir\"][\"cohort_clinical\"], f)\n",
    "    if os.path.isfile(path_f):\n",
    "        attribute_files.append(path_f)"
   ]
  },
  {
   "cell_type": "code",
   "execution_count": null,
   "metadata": {
    "collapsed": false,
    "deletable": true,
    "editable": true
   },
   "outputs": [],
   "source": [
    "#read neighborhoods        \n",
    "n = json_2pt0[\"tumormap_results\"]\n",
    "\n",
    "j[\"pivot_sample\"] = in_sample\n",
    "j[\"most_similar_samples\"] = n.keys()\n",
    "j[\"median_local_neighborhood_similarity\"] = numpy.median(n.values())\n",
    "\n",
    "print_report( \"Pivot sample: {}\".format(j[\"pivot_sample\"]) )\n",
    "print_report( \"Pivot neighbors: {}\".format(\", \".join(j[\"most_similar_samples\"])))\n",
    "print_report( \"Median local neighborhood similarity: {}\".format(str(j[\"median_local_neighborhood_similarity\"])))"
   ]
  },
  {
   "cell_type": "code",
   "execution_count": null,
   "metadata": {
    "collapsed": false,
    "deletable": true,
    "editable": true
   },
   "outputs": [],
   "source": [
    "# position on tumormap if available\n",
    "\n",
    "self_coords = []\n",
    "neighbor_coords = []\n",
    "mcs_above_threshold_coords = { \"ids\":[], \"xcoords\":[], \"ycoords\":[] }\n",
    "\n",
    "if(os.path.exists(in_euclidean_positions)):\n",
    "    with open(in_euclidean_positions, 'r') as input:\n",
    "        x_pos = []\n",
    "        y_pos = []\n",
    "        for line in input:\n",
    "            line_elems = line.strip().split(\"\\t\")\n",
    "            # Don't  crash horribly if we get a line that's missing fields--just skip it\n",
    "            if len(line_elems) < 3:\n",
    "                continue\n",
    "            # Get the MCS above threshold  coords (will never include self-sample)\n",
    "            if line_elems[0] in json_2pt0[\"tumormap_results_above_threshold\"].keys():\n",
    "                mcs_above_threshold_coords[\"ids\"].append(line_elems[0])\n",
    "                mcs_above_threshold_coords[\"xcoords\"].append(line_elems[1])\n",
    "                mcs_above_threshold_coords[\"ycoords\"].append(line_elems[2])\n",
    "            if line_elems[0] in n.keys():\n",
    "                # If we encounter the self-sample, don't add it to x_pos / y_post as it \n",
    "                # should not contribute to the centroid; but do store it for display\n",
    "                if line_elems[0] == c[\"info\"][\"id_for_tumormap\"]:\n",
    "                    self_coords = [line_elems[1],line_elems[2]]\n",
    "                else:\n",
    "                    x_pos.append(float(line_elems[1]))\n",
    "                    y_pos.append(float(line_elems[2]))\n",
    "                    # Also store the neighbor info for display\n",
    "                    neighbor_coords.append(line_elems)\n",
    "\n",
    "    input.close()\n",
    "    if not(len(x_pos) == len(y_pos)):\n",
    "        raise KeyboardInterrupt(\"ERROR: number of x positions does not match number of y positions in the neighbors\")\n",
    "\n",
    "    if(len(x_pos) == 0):\n",
    "        print_report( \"No pivot position or TumorMap URL available: neighbors not found in coordinates file.\")\n",
    "    else:\n",
    "        j[\"centroid_x\"] = numpy.median(x_pos)    #median\n",
    "        j[\"centroid_y\"] = numpy.median(y_pos)    #median\n",
    "        print_report( \"Pivot position in the map: (\"+str(j[\"centroid_x\"])+\", \"+str(j[\"centroid_y\"])+\")\")\n",
    "\n",
    "        tumormap_url=c[\"tumormap\"][\"info\"][\"url\"]\n",
    "        if not tumormap_url:\n",
    "            print_report( \"No TumorMap URL available.\")\n",
    "        else:\n",
    "            j[\"calculated_nof1_url\"]=\"{}&node={}&x={}&y={}\".format(\n",
    "                tumormap_url, in_sample, str(j[\"centroid_x\"]), str(j[\"centroid_y\"]))\n",
    "            print_report( \"URL - Calculated:\" )\n",
    "            print_report(j[\"calculated_nof1_url\"])\n",
    "            \n",
    "            # Also print URL with MCS\n",
    "            # Format is node=Sample1,Sample2,Sample3&x=123,456,789&y=111,222,333\n",
    "            neighbor_url_ids = [in_sample]\n",
    "            neighbor_url_x = [str(j[\"centroid_x\"])]\n",
    "            neighbor_url_y = [str(j[\"centroid_y\"])]\n",
    "            \n",
    "            for neighbor in neighbor_coords:\n",
    "                neighbor_url_ids.append(neighbor[0])\n",
    "                neighbor_url_x.append(neighbor[1])\n",
    "                neighbor_url_y.append(neighbor[2])\n",
    "                \n",
    "            \n",
    "            j[\"calculated_nof1_and_mcs_url\"] = \"{}&node={}&x={}&y={}\".format(\n",
    "                tumormap_url, \",\".join(neighbor_url_ids), \",\".join(neighbor_url_x), \",\".join(neighbor_url_y))\n",
    "            \n",
    "            print_report( \"URL - Sample and Most Similar Samples:\" )           \n",
    "            print_report( j[\"calculated_nof1_and_mcs_url\"] )\n",
    "            \n",
    "            # Also print the url for JUST the MCS; guaranteed to be at least one (see above, No pivot position...)\n",
    "            j[\"mcs_only_url\"] = \"{}&node={}&x={}&y={}\".format(\n",
    "                tumormap_url, \n",
    "                \",\".join(neighbor_url_ids[1:]),\n",
    "                \",\".join(neighbor_url_x[1:]),\n",
    "                \",\".join(neighbor_url_y[1:])\n",
    "            )\n",
    "            print_report( \"URL - Most Correlated Samples only:\" )\n",
    "            print_report(j[\"mcs_only_url\"])\n",
    "            \n",
    "            # Report for just the MCS above threshold\n",
    "            j[\"mcs_above_threshold_url\"] = \"{}&node={}&x={}&y={}\".format(\n",
    "                tumormap_url, \n",
    "                \",\".join(mcs_above_threshold_coords[\"ids\"]),\n",
    "                \",\".join(mcs_above_threshold_coords[\"xcoords\"]),\n",
    "                \",\".join(mcs_above_threshold_coords[\"ycoords\"])\n",
    "            )\n",
    "            print_report(\"URL - Most Correlated Samples Above Threshold:\")\n",
    "            print_report(j[\"mcs_above_threshold_url\"])\n",
    "            \n",
    "            # If the sample was already on the map, print a URL for that too\n",
    "            if(self_coords):\n",
    "                j[\"nof1_original_url\"] = \"{}&node={}&x={}&y={}\".format(\n",
    "                    tumormap_url, in_sample, self_coords[0], self_coords[1])\n",
    "                print_report( \"URL - Original Placement:\" )\n",
    "                print_report(j[\"nof1_original_url\"])\n",
    "else:\n",
    "    print_report( \"No pivot position or TumorMap URL available: coordinates file not present.\" )"
   ]
  },
  {
   "cell_type": "code",
   "execution_count": null,
   "metadata": {
    "collapsed": false,
    "deletable": true,
    "editable": true
   },
   "outputs": [],
   "source": [
    "# Similarity with MCS & sample disease counts, rounded to 2 decimal places\n",
    "# Also note the pivot sample and MCS that failed the correlation threshold\n",
    "\n",
    "j[\"mcs_threshold_status\"] = {}\n",
    "\n",
    "print_report( \"\\nSimilarity with individual neighbors\"\n",
    "             \" (in order from highest to lowest correlation):\" )\n",
    "for k in sorted(n, key=n.get, reverse=True):\n",
    "    if k in json_2pt0[\"tumormap_results_above_threshold\"].keys():\n",
    "        failed_threshold = \"\"\n",
    "    elif k == c[\"info\"][\"id_for_tumormap\"]:\n",
    "        failed_threshold = \"\\t(pivot sample)\"\n",
    "    else:\n",
    "        failed_threshold = \"\\t(failed correlation threshold)\"\n",
    "    j[\"mcs_threshold_status\"][k] = failed_threshold\n",
    "    print_report( \"{}\\t{}{}\".format(k, '{:.2f}'.format(n[k]), failed_threshold))\n",
    "    \n",
    "print_report(\"\\n\")\n",
    "print_report(json_2pt0[\"sample_disease_counts\"])"
   ]
  },
  {
   "cell_type": "code",
   "execution_count": null,
   "metadata": {
    "collapsed": false,
    "deletable": true,
    "editable": true
   },
   "outputs": [],
   "source": [
    "# Print attribute info\n",
    "\n",
    "j[\"attribute_info\"]= []\n",
    "\n",
    "for a in attribute_files:\n",
    "    print_report( \"\\n\" )\n",
    "    with open(a, 'r') as input:\n",
    "        line_num = 0\n",
    "        for line in input:\n",
    "\n",
    "            line = line.replace(\"\\n\", \"\")\n",
    "\n",
    "            if line_num == 0:\n",
    "                print_report( line )\n",
    "                j[\"attribute_info\"].append(line)\n",
    "            else:\n",
    "                line_elems = line.split(\"\\t\")\n",
    "                if line_elems[0] in n.keys():\n",
    "                    print_report( line )\n",
    "                    j[\"attribute_info\"].append(line)\n",
    "\n",
    "            line_num += 1"
   ]
  },
  {
   "cell_type": "markdown",
   "metadata": {},
   "source": [
    "Get the essential clinical info into the json for easy parsing downstream"
   ]
  },
  {
   "cell_type": "code",
   "execution_count": null,
   "metadata": {
    "collapsed": false
   },
   "outputs": [],
   "source": [
    "j[\"mcs_clinical_data\"] = {}\n",
    "allsid = []\n",
    "with open(c[\"cohort\"][\"essential_clinical\"], \"r\") as essential_clinical:\n",
    "    clin_items = csv.DictReader(essential_clinical, dialect=\"excel-tab\")\n",
    "    for sample in clin_items:\n",
    "        if sample[\"th_sampleid\"] in n.keys():\n",
    "            j[\"mcs_clinical_data\"][sample[\"th_sampleid\"]] = sample\n",
    "\n",
    "j[\"mcs_clinical_data\"]"
   ]
  },
  {
   "cell_type": "code",
   "execution_count": null,
   "metadata": {
    "collapsed": false,
    "deletable": true,
    "editable": true
   },
   "outputs": [],
   "source": [
    "with open(c[\"json\"][\"2.5\"], \"w\") as jf:\n",
    "    json.dump(j, jf, indent=2)\n",
    "\n",
    "print(\"Done!\")"
   ]
  }
 ],
 "metadata": {
  "kernelspec": {
   "display_name": "Python 2",
   "language": "python",
   "name": "python2"
  },
  "language_info": {
   "codemirror_mode": {
    "name": "ipython",
    "version": 2
   },
   "file_extension": ".py",
   "mimetype": "text/x-python",
   "name": "python",
   "nbconvert_exporter": "python",
   "pygments_lexer": "ipython2",
   "version": "2.7.12"
  }
 },
 "nbformat": 4,
 "nbformat_minor": 2
}
