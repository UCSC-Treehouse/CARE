{
 "cells": [
  {
   "cell_type": "markdown",
   "metadata": {
    "deletable": true,
    "editable": true
   },
   "source": [
    "Welcome to the Beta folder! Here's where you can put your Beta notebooks and run them in the protocol.\n",
    "\n",
    "Make a copy of the Template notebook and give it a concise descriptive name.\n",
    "\n",
    "Next, edit this cell to describe your notebook and the inputs and outputs."
   ]
  },
  {
   "cell_type": "code",
   "execution_count": null,
   "metadata": {
    "collapsed": true,
    "deletable": true,
    "editable": true
   },
   "outputs": [],
   "source": [
    "# Put your imports here!\n",
    "import os\n",
    "import glob\n",
    "import json\n",
    "import logging"
   ]
  },
  {
   "cell_type": "code",
   "execution_count": null,
   "metadata": {
    "collapsed": false,
    "deletable": true,
    "editable": true
   },
   "outputs": [],
   "source": [
    "# This cell loads the configuration and contains some helper functions.\n",
    "# Please don't edit it.\n",
    "\n",
    "with open(\"../conf.json\",\"r\") as conf:\n",
    "    c=json.load(conf)\n",
    "sample_id = c[\"sample_id\"]    \n",
    "print(\"Running on sample: {}\".format(sample_id))\n",
    "logging.basicConfig(**c[\"info\"][\"logging_config\"])\n",
    "\n",
    "def and_log(s):\n",
    "    logging.info(s)\n",
    "    return s\n",
    "\n",
    "j = {}\n",
    "\n",
    "def load_notebook_output(notebook_num):\n",
    "    outputfile = \"../{}.json\".format(notebook_num)\n",
    "    try:\n",
    "        with open(outputfile, \"r\") as f:\n",
    "            result = json.load(f)\n",
    "        return result\n",
    "    except IOError:\n",
    "        print(\"Error! Couldn't find output of previous notebook at {}\".format(outputfile))\n",
    "        return {}"
   ]
  },
  {
   "cell_type": "code",
   "execution_count": null,
   "metadata": {
    "collapsed": false,
    "deletable": true,
    "editable": true
   },
   "outputs": [],
   "source": [
    "# Add a line to the Beta log describing what you are running\n",
    "print and_log(\"Running the Beta Template notebook...\")\n",
    "\n",
    "# What is the name of your notebook? Fill this out. For example, for \"Template.ipynb\", write \"Template\".\n",
    "notebook_name = \"Template\""
   ]
  },
  {
   "cell_type": "markdown",
   "metadata": {
    "deletable": true,
    "editable": true
   },
   "source": [
    "Put your notebook code in the cells below! \n",
    "Outputs of the notebook should be logged in the \"j\" dictionary.\n",
    "\n",
    "Make an effort to contain all outputs within the dictionary.\n",
    "If an output cannot be stored in a dictionary (such as a PNG image), save it in the current directory.\n",
    "\n",
    "Some useful functions and variables for loading input:\n",
    "* `sample_id` : contains the current sample ID\n",
    "* `load_notebook_output()` : Takes the notebook number (non-beta notebooks only);\n",
    "returns a dictionary of that notebook's output\n",
    "* `c[\"dir\"][\"secondary\"]` : Path to the secondary output for this sample\n",
    "* `c[\"dir\"][\"cohort\"]` : Path to the background cohort\n",
    "* `c[\"dir\"][\"ref\"]` : Path to the external-references directory\n",
    "\n",
    "Examples of these:"
   ]
  },
  {
   "cell_type": "code",
   "execution_count": null,
   "metadata": {
    "collapsed": false,
    "deletable": true,
    "editable": true
   },
   "outputs": [],
   "source": [
    "# Populating your output; getting the sample ID\n",
    "j[\"example\"] = \"Hello World! Greetings from sample {}\\n\".format(sample_id)\n",
    "print j[\"example\"]\n",
    "\n",
    "# Loading output from a previous notebook\n",
    "example_info = load_notebook_output(\"2.2\")\n",
    "print \"Loaded the 2.2 output json. Keys are: {}\\n\".format(example_info.keys())\n",
    "\n",
    "# What files are in the secondary output for this sample?\n",
    "print glob.glob(os.path.join(c[\"dir\"][\"secondary\"], \"ucsctreehouse-fusion-*\", \"*\"))\n",
    "print \"\\n\"\n",
    "\n",
    "# What is the info for the cohort?\n",
    "compendium_info_file = os.path.join(c[\"dir\"][\"cohort\"], \"compendium_info.json\")\n",
    "with open(compendium_info_file, \"r\") as f:\n",
    "    print json.load(f)\n",
    "    \n",
    "# What .txt files are in the reference directory?\n",
    "glob.glob(os.path.join(c[\"dir\"][\"ref\"], \"*.txt\"))"
   ]
  },
  {
   "cell_type": "markdown",
   "metadata": {
    "deletable": true,
    "editable": true
   },
   "source": [
    "Finally, this code writes the \"j\" output dictionary to the json document that goes with this notebook.\n",
    "For example, \"Template.json\"."
   ]
  },
  {
   "cell_type": "code",
   "execution_count": null,
   "metadata": {
    "collapsed": false,
    "deletable": true,
    "editable": true
   },
   "outputs": [],
   "source": [
    "with open(\"{}.json\".format(notebook_name), \"w\") as jsonfile:\n",
    "    json.dump(j, jsonfile, indent=2)\n",
    "    \n",
    "print(\"Done.\")"
   ]
  }
 ],
 "metadata": {
  "kernelspec": {
   "display_name": "Python 2",
   "language": "python",
   "name": "python2"
  },
  "language_info": {
   "codemirror_mode": {
    "name": "ipython",
    "version": 2
   },
   "file_extension": ".py",
   "mimetype": "text/x-python",
   "name": "python",
   "nbconvert_exporter": "python",
   "pygments_lexer": "ipython2",
   "version": "2.7.12"
  }
 },
 "nbformat": 4,
 "nbformat_minor": 2
}
