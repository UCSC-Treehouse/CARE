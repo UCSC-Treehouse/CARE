{
 "cells": [
  {
   "cell_type": "markdown",
   "metadata": {
    "deletable": true,
    "editable": true
   },
   "source": [
    "# Generate Summary\n",
    "\n",
    "\n",
    "This step generates a json file compiling all the output from the previous steps.\n",
    "\n",
    "It then uses a jinja2 template to parse that json file into an HTML page. This page is the summary and can be manually edited to add or remove information.\n",
    "\n",
    "As this requires neither human intervention, or clinical information about the n-of-1 sample, many fields in the summary document will be blank and require filling in before deliverable to downstream viewers.\n"
   ]
  },
  {
   "cell_type": "code",
   "execution_count": null,
   "metadata": {
    "collapsed": false,
    "deletable": true,
    "editable": true
   },
   "outputs": [],
   "source": [
    "import os\n",
    "import json\n",
    "import errno\n",
    "from jinja2 import Environment, FileSystemLoader \n",
    "import logging\n",
    "\n",
    "# Setup: load conf, retrieve sample ID, logging\n",
    "with open(\"conf.json\",\"r\") as conf:\n",
    "    c=json.load(conf)\n",
    "sample_id = c[\"sample_id\"]    \n",
    "print(\"Running on sample: {}\".format(sample_id))\n",
    "\n",
    "logging.basicConfig(**c[\"info\"][\"logging_config\"])\n",
    "logging.info(\"\\n9: Generate Summary Document\")\n",
    "def and_log(s):\n",
    "    logging.info(s)\n",
    "    return s"
   ]
  },
  {
   "cell_type": "code",
   "execution_count": null,
   "metadata": {
    "collapsed": false,
    "deletable": true,
    "editable": true
   },
   "outputs": [],
   "source": [
    "# Get all the json -- outputs, conf, and analysis failed info\n",
    "all_json = {}\n",
    "for notebook_num, path in c[\"json\"].iteritems():  \n",
    "    newname = \"nb_{}\".format(notebook_num.replace(\".\", \"pt\"))\n",
    "    with open(path) as this_jsonfile:\n",
    "        all_json[newname] = json.load(this_jsonfile)\n",
    "        \n",
    "\n",
    "all_json[\"conf\"] = c\n",
    "all_json[\"sample_id\"] = sample_id\n",
    "\n",
    "try:\n",
    "    with open(c[\"file\"][\"flag_analysis_failed\"], \"r\") as jf:\n",
    "        all_json[\"analysis_failed\"] = json.load(jf)\n",
    "except IOError, e:\n",
    "    if e.errno == errno.ENOENT:\n",
    "        all_json[\"analysis_failed\"] = False\n",
    "    else:\n",
    "        raise"
   ]
  },
  {
   "cell_type": "code",
   "execution_count": null,
   "metadata": {
    "collapsed": false,
    "deletable": true,
    "editable": true
   },
   "outputs": [],
   "source": [
    "# Set up the template engine and write the output files\n",
    "# Always escape content\n",
    "env=Environment(autoescape=True,\n",
    "                loader=FileSystemLoader(\".\")\n",
    "               )\n",
    "\n",
    "# For embedding any files (eg css) raw, without parsing contents\n",
    "def get_resource_as_string(name, charset='utf-8'):\n",
    "    with open(name, \"r\") as f:\n",
    "        return f.read().decode(charset)\n",
    "\n",
    "env.globals['get_resource_as_string'] = get_resource_as_string\n",
    "\n",
    "findings_template=env.get_template(c[\"info\"][\"summary_template_name\"])\n",
    "slides_template = env.get_template(c[\"info\"][\"slides_template_name\"])\n",
    "\n",
    "# Write the final  summary HTML\n",
    "print(\"Rendering findings to {}\".format(c[\"file\"][\"summary_html\"]))\n",
    "with open(c[\"file\"][\"summary_html\"], \"w\") as r:\n",
    "    r.write(findings_template.render(all_json).encode('utf-8'))\n",
    "    \n",
    "print(\"Rendering slides to {}\".format(c[\"file\"][\"slides_html\"]))\n",
    "with open(c[\"file\"][\"slides_html\"], \"w\") as r:\n",
    "    r.write(slides_template.render(all_json).encode('utf-8'))"
   ]
  },
  {
   "cell_type": "code",
   "execution_count": null,
   "metadata": {
    "collapsed": false,
    "deletable": true,
    "editable": true
   },
   "outputs": [],
   "source": [
    "logging.info(\"Tertiary Analysis complete.\")\n",
    "print 'Done!'"
   ]
  }
 ],
 "metadata": {
  "kernelspec": {
   "display_name": "Python 2",
   "language": "python",
   "name": "python2"
  },
  "language_info": {
   "codemirror_mode": {
    "name": "ipython",
    "version": 2
   },
   "file_extension": ".py",
   "mimetype": "text/x-python",
   "name": "python",
   "nbconvert_exporter": "python",
   "pygments_lexer": "ipython2",
   "version": "2.7.12"
  }
 },
 "nbformat": 4,
 "nbformat_minor": 2
}
