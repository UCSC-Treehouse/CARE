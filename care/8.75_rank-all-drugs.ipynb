{
 "cells": [
  {
   "cell_type": "markdown",
   "metadata": {
    "deletable": true,
    "editable": true
   },
   "source": [
    "Source: https://github.com/UCSC-Treehouse/rank_drugs_for_a_sample\n",
    "\n",
    "Sample input: 4.0.json\n",
    "References input: target-drug_relationships_2020-02-27.tsv\n",
    "\n",
    "Outputs:\n",
    "-  drugs_by_percentile_SAMPLEID.png\"\n",
    "-  drug-relevant_expression_info_SAMPLEID.tsv\""
   ]
  },
  {
   "cell_type": "code",
   "execution_count": null,
   "metadata": {
    "collapsed": false,
    "deletable": true,
    "editable": true
   },
   "outputs": [],
   "source": [
    "library(tidyverse)\n",
    "library(knitr)\n",
    "library(jsonlite)\n",
    "\n",
    "c = read_json(\"conf.json\")\n",
    "sample_id = c$sample_id\n",
    "print(paste0(\"Running on sample: \", sample_id))\n",
    "logpath = c$info$logging_config$filename\n",
    "\n",
    "and_log <- function(text){\n",
    "    write(text, file=logpath,append=TRUE)\n",
    "    return(text)\n",
    "}\n",
    "\n",
    "j <- list()\n",
    "\n",
    "print(and_log(\"8.75: Running Rank Drugs for a Sample...\"))"
   ]
  },
  {
   "cell_type": "code",
   "execution_count": null,
   "metadata": {
    "collapsed": false,
    "deletable": true,
    "editable": true
   },
   "outputs": [],
   "source": [
    "# Load gene-drug relationship file.\n",
    "# Load the outlier results from 4.0.json and transform into a dataframe\n",
    "\n",
    "target_drug_relationships <- read_tsv(c$ref_file$target_drug_relationships,\n",
    "                                      col_types = cols(.default = \"c\"))\n",
    "\n",
    "data_json <- read_json(c$json$\"4.0\")$outlier_results\n",
    "data_list <- lapply(names(data_json),\n",
    "      function(this_colname) {\n",
    "        this_data <- data_json[[this_colname]]\n",
    "        this_result <- tibble(Gene = names(this_data),\n",
    "               Value = as.character(this_data))\n",
    "        colnames(this_result)[2] <- this_colname\n",
    "        return(this_result)\n",
    "      })\n",
    "raw_outliers <- data_list %>%\n",
    "    reduce(left_join, by = \"Gene\")\n",
    "raw_outliers$pc_percentile <-  as.numeric(raw_outliers$pc_percentile)"
   ]
  },
  {
   "cell_type": "code",
   "execution_count": null,
   "metadata": {
    "collapsed": false,
    "deletable": true,
    "editable": true
   },
   "outputs": [],
   "source": [
    "# Columns in the results, in order of printing\n",
    "desired_column_list <- c(\"Gene\", \"drug\", \"sample\",\"is_top_5\",\n",
    "                         \"pc_low\", \"pc_median\", \"pc_high\",\n",
    "                         \"pc_outlier\", \"pd_outlier\", \"pc_percentile\")\n",
    "\n",
    "\n",
    "# Rank the results sorted by the highest pancan percentile for each drug\n",
    "outlier_results <- raw_outliers %>%\n",
    "  inner_join(target_drug_relationships, by=c(\"Gene\"=\"target\")) %>%\n",
    "  select(desired_column_list) %>%\n",
    "  mutate_at(vars(sample, pc_low, pc_median, pc_high), function(x) round(as.numeric(x),2)) %>%\n",
    "  replace_na(list(pc_outlier=\"non outlier\", is_top_5=\"\")) %>%\n",
    "  group_by(drug) %>%\n",
    "  mutate(max_pctl_for_drug = max(pc_percentile)) %>%\n",
    "  ungroup %>%\n",
    "  arrange(desc(max_pctl_for_drug), drug, desc(pc_percentile) ) %>%\n",
    "  mutate(gene_drug = factor( paste0(Gene, \" (\", drug, \")\"), levels = rev(unique( paste0(Gene, \" (\", drug, \")\")))))"
   ]
  },
  {
   "cell_type": "code",
   "execution_count": null,
   "metadata": {
    "collapsed": false,
    "deletable": true,
    "editable": true
   },
   "outputs": [],
   "source": [
    "# plot\n",
    "this_title <- paste0(\"pancan percentile in \", sample_id)\n",
    "ggplot(outlier_results) +\n",
    "geom_point(aes(y = gene_drug, x=pc_percentile, \n",
    "               shape=pc_outlier, color = is_top_5)) +\n",
    "  xlab(\"pan cancer percentile of expression\") +\n",
    "  ylab(\"\") + \n",
    "  ggtitle(this_title) +\n",
    "  scale_color_brewer(palette = \"Set1\")"
   ]
  },
  {
   "cell_type": "code",
   "execution_count": null,
   "metadata": {
    "collapsed": false,
    "deletable": true,
    "editable": true
   },
   "outputs": [],
   "source": [
    "# Write output files & save the uri-encoded PNG and drug-relevant expression table to the json\n",
    "print(paste0(\"Saving plot to: \", c$file$drugs_by_percentile_plot))\n",
    "print(paste0(\"Saving table to: \", c$file$drug_relevant_expression))\n",
    "\n",
    "ggsave(c$file$drugs_by_percentile_plot)\n",
    "\n",
    "\n",
    "drug_relevant_expression_table <- outlier_results %>%\n",
    "  select(-gene_drug, -max_pctl_for_drug) %>%\n",
    "  mutate(pc_outlier = gsub(\"non outlier\", \"\", pc_outlier))\n",
    "\n",
    "drug_relevant_expression_table %>% write_tsv(c$file$drug_relevant_expression)\n",
    "j$drug_relevant_expression_table <- drug_relevant_expression_table\n",
    "\n",
    "\n",
    "# Also make a lower resolution image for the summary\n",
    "tmp_png <- tempfile(tmpdir=\".\", fileext=\".png\")\n",
    "print(paste0(\"Low res table temporarily saved to \", tmp_png))\n",
    "ggsave(tmp_png, dpi=150)\n",
    "j$drugs_by_percentile_plot <- image_uri(tmp_png)\n",
    "file.remove(tmp_png)\n",
    "\n",
    "j$expression_table_key_order <- desired_column_list\n",
    "\n",
    "write_json(j, pretty=TRUE, c$json$\"8.75\", auto_unbox=TRUE) \n",
    "# use auto_unbox: saves the plot as a bare string rather than 1-element array\n",
    "\n",
    "print(\"Done!\")"
   ]
  }
 ],
 "metadata": {
  "kernelspec": {
   "display_name": "R",
   "language": "R",
   "name": "ir"
  }
 },
 "nbformat": 4,
 "nbformat_minor": 2
}
