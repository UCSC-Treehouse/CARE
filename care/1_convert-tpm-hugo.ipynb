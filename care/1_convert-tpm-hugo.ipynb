{
 "cells": [
  {
   "cell_type": "markdown",
   "metadata": {
    "deletable": true,
    "editable": true
   },
   "source": [
    "Single-sample: Convert rsem_genes.results output to normalized unique TPM Hugo.\n",
    "Uses [sample id].conf file to determine the paths to the sample directory & reference files\n",
    "\n",
    "Last updated: May 2, 2018\n",
    "\n",
    "Changelog:\n",
    "2018-05-02 : Sum the TMP values, rather than take the mean, of combined duplicate genes See issue #130.\n",
    "2017-12-05 : Average genes together in TPM space, not log2 TPM space; the latter is incorrect. (later changed to summing genes)\n",
    "\n",
    "Input : \n",
    " - conf.json\n",
    " - rsem_genes.results file for this sample: c[\"file\"][\"rsem_genes.results\"]\n",
    " \n",
    "Input reference files:\n",
    " - c[\"ref_file\"][\"rsem_genes.results_header\"]\n",
    " - c[\"ref_file\"][\"ensembl_hugo_mapping_file\"]\n",
    " - c[\"ref_file\"][\"ensembl_id_list\"]\n",
    "\n",
    "Output :\n",
    " - Files:\n",
    "    - rsem.genes.tpm.hugo.tab\n",
    "    - rsem.genes.tpm.hugo.log2plus1.dedupe.tab\n",
    "\n",
    " - JSON:\n",
    "  - 1.json. Keys:\n",
    "    - tpm_hugo_norm_uniq = rsem.genes.tpm.hugo.log2plus1.dedupe.tab\n",
    "   \n",
    "\n",
    "Process:\n",
    "\n",
    "- TPM column extracted\n",
    "- ensembl genes translated to hugo\n",
    " -  File written as rsem.genes.tpm.hugo.tab\n",
    "- hugo genes summed and uniqued in TPM space\n",
    "- log2(n+1) normalization applied\n",
    "  - File written as rsem.genes.tpm.hugo.log2plus1.dedupe.tab\n"
   ]
  },
  {
   "cell_type": "code",
   "execution_count": null,
   "metadata": {
    "collapsed": false,
    "deletable": true,
    "editable": true
   },
   "outputs": [],
   "source": [
    "import pandas as pd\n",
    "import numpy as np\n",
    "import os\n",
    "import csv\n",
    "import json\n",
    "import logging\n",
    "\n",
    "# Setup: load conf, retrieve sample ID, logging\n",
    "with open(\"conf.json\",\"r\") as conf:\n",
    "    c=json.load(conf)\n",
    "sample_id = c[\"sample_id\"]    \n",
    "print(\"Running on sample: {}\".format(sample_id))\n",
    "\n",
    "logging.basicConfig(**c[\"info\"][\"logging_config\"])\n",
    "logging.info(\"\\n1: Convert rsem_genes.results output to normalized unique TPM Hugo.\")\n",
    "def and_log(s):\n",
    "    logging.info(s)\n",
    "    return s\n",
    " \n",
    "# JSON output\n",
    "j={}\n",
    "\n",
    "# Check input file\n",
    "if(not os.path.exists(c[\"file\"][\"rsem_genes.results\"])):\n",
    "    print and_log(\"Error: can't find required input file {}\".format(c[\"file\"][\"rsem_genes.results\"]))\n",
    "    raise KeyboardInterrupt"
   ]
  },
  {
   "cell_type": "code",
   "execution_count": null,
   "metadata": {
    "collapsed": false,
    "deletable": true,
    "editable": true
   },
   "outputs": [],
   "source": [
    "\n",
    "################### Base parameters ###########################\n",
    "\n",
    "# strings\n",
    "rgr_TPM_colname = \"TPM\"\n",
    "ensembl_hugo_NA_key = \"NA\"\n",
    "\n",
    "# Reference files \n",
    "\n",
    "# header entries from rsem_genes.results, 1 per line, first line is gene_id\n",
    "rgr_header=pd.read_csv(c[\"ref_file\"][\"rsem_genes.results_header\"], index_col=0).index\n",
    "# First column: Hugo, ensembl_hugo_NA_key (ie, \"NA\") if none. Second column : ensembl ID\n",
    "\n",
    "with open(c[\"ref_file\"][\"ensembl_hugo_mapping_file\"], mode='r') as infile:\n",
    "    ensembl_hugo_mapping_dict = dict((rows[1],rows[0]) for rows in csv.reader(infile, delimiter='\\t'))\n"
   ]
  },
  {
   "cell_type": "code",
   "execution_count": null,
   "metadata": {
    "collapsed": true,
    "deletable": true,
    "editable": true
   },
   "outputs": [],
   "source": [
    "### Functions ###\n",
    "\n",
    "# Takes : dataframe of tpm columns with ensembl labels\n",
    "#         dictionary : mapping of ensembl->hugo genes\n",
    "#         string : which value in the dictionary, after mapping, should be dropped.\n",
    "# returns : dataframe. row labels are now hugo instead of ensembl\n",
    "def ensembl_to_hugo(exp, mapping_dict, NA_key):\n",
    "    new_index_exp = exp.copy()\n",
    "    new_index_exp.index = exp.index.map(lambda x: mapping_dict[x])\n",
    "    return new_index_exp.drop(NA_key)\n",
    "\n",
    "# Takes : dataframe of TPM columns\n",
    "# returns : dataframe. each column is normalized by log2(tpm + 1)\n",
    "def normalize_log2(exp):\n",
    "    return exp.apply(lambda x: np.log2(x+1))\n",
    "\n",
    "\n",
    "# Takes : dataframe of TPM columns\n",
    "# returns : dataframe. \n",
    "    # finds all row labels that are duplicate\n",
    "    # sum their values together to create an unique row label\n",
    "def uniquify_genes(exp):\n",
    "    return exp.groupby(exp.index).sum()"
   ]
  },
  {
   "cell_type": "code",
   "execution_count": null,
   "metadata": {
    "collapsed": false,
    "deletable": true,
    "editable": true
   },
   "outputs": [],
   "source": [
    "### Setup ###\n",
    "\n",
    "# Load all the TPM columns into a dataframe.\n",
    "# Complain if there were any mismatch in rownames (resulting in NaN values)\n",
    "\n",
    "# Ensembl IDs, 1 per line, first line is gene_id\n",
    "ensembl_ids_df = pd.read_csv(c[\"ref_file\"][\"ensembl_id_list\"], index_col=0) # Set up the ensembl IDs to use\n",
    "tpm_arr = [ensembl_ids_df]\n",
    "\n",
    "genesresults = pd.read_csv(c[\"file\"][\"rsem_genes.results\"], delimiter=\"\\t\", index_col=0)\n",
    "if(not genesresults.columns.equals(rgr_header)):\n",
    "    raise Exception(\"{} headers don't match expected\".format(sample_id))\n",
    "else:\n",
    "    tpm_arr.append(genesresults[rgr_TPM_colname].rename(sample_id))\n",
    "\n",
    "\n",
    "### The initial dataframe of TPM columns ###\n",
    "tpm_df = pd.concat(tpm_arr, axis=1)\n",
    "\n",
    "if(tpm_df.isnull().values.any()):\n",
    "    print and_log(\"Ensembl IDs didn't match! Please check input files\")\n",
    "    raise KeyboardInterrupt"
   ]
  },
  {
   "cell_type": "code",
   "execution_count": null,
   "metadata": {
    "collapsed": false,
    "deletable": true,
    "editable": true
   },
   "outputs": [],
   "source": [
    "### Main ###\n",
    "\n",
    "# Convert ensembl gene names to hugo\n",
    "tpm_hugo_df=ensembl_to_hugo(tpm_df, ensembl_hugo_mapping_dict, ensembl_hugo_NA_key)\n",
    "\n",
    "# Make gene labels unique, averaging together the values from duplicate labels\n",
    "tpm_hugo_uniq_df=uniquify_genes(tpm_hugo_df)\n",
    "\n",
    "# Normalize by log_2(tpm+1)\n",
    "tpm_hugo_norm_uniq_df=normalize_log2(tpm_hugo_uniq_df)"
   ]
  },
  {
   "cell_type": "code",
   "execution_count": null,
   "metadata": {
    "collapsed": true,
    "deletable": true,
    "editable": true
   },
   "outputs": [],
   "source": [
    "# Convert the dataframe to string-based so we can uniformly store it to JSON and CSV\n",
    "tpm_hugo_norm_uniq_df_asString = tpm_hugo_norm_uniq_df.applymap(lambda x: \"%.12g\" % x)\n",
    "\n",
    "# Store it in our JSON object\n",
    "j[\"tpm_hugo_norm_uniq\"] = json.loads(tpm_hugo_norm_uniq_df_asString.to_json(orient='columns'))\n",
    "\n"
   ]
  },
  {
   "cell_type": "code",
   "execution_count": null,
   "metadata": {
    "collapsed": false,
    "deletable": true,
    "editable": true
   },
   "outputs": [],
   "source": [
    "### Output ###\n",
    "\n",
    "print(\"Writing TPM Hugo: {}\".format(c[\"file\"][\"tpm_hugo\"]))\n",
    "print(\"Writing normalized unique TPM Hugo: {}\".format(c[\"file\"][\"tpm_hugo_norm_uniq\"]))\n",
    "print(\"Writing JSON: {}\".format(c[\"json\"][\"1\"]))\n",
    "\n",
    "\n",
    "tpm_hugo_df.to_csv(c[\"file\"][\"tpm_hugo\"], sep=\"\\t\",\n",
    "                            header=True, index_label=\"Gene\",float_format=\"%.12g\")\n",
    "\n",
    "\n",
    "tpm_hugo_norm_uniq_df_asString.to_csv(c[\"file\"][\"tpm_hugo_norm_uniq\"], sep=\"\\t\",\n",
    "                            header=True, index_label=\"Gene\")\n",
    "\n",
    "with open(c[\"json\"][\"1\"], \"w\") as jsonfile:\n",
    "    json.dump(j, jsonfile, indent=2)\n",
    "\n",
    "print \"Done!\""
   ]
  }
 ],
 "metadata": {
  "kernelspec": {
   "display_name": "Python 2",
   "language": "python",
   "name": "python2"
  },
  "language_info": {
   "codemirror_mode": {
    "name": "ipython",
    "version": 2
   },
   "file_extension": ".py",
   "mimetype": "text/x-python",
   "name": "python",
   "nbconvert_exporter": "python",
   "pygments_lexer": "ipython2",
   "version": "2.7.12"
  }
 },
 "nbformat": 4,
 "nbformat_minor": 1
}
