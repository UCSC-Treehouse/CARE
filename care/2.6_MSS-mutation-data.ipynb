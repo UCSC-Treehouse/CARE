{
 "cells": [
  {
   "cell_type": "markdown",
   "metadata": {
    "deletable": true,
    "editable": true
   },
   "source": [
    "# Mutation Data of Most Similar Samples\n",
    "\n",
    "Generates the following outputs: \n",
    "\n",
    "1. \"multiplyMutatedGenesPerMSSOf\\_**sample id**.tsv\"\n",
    "2. \"multiplyAppearingMutationsPerMSSOf\\_**sample id**.tsv\"\n",
    "3. \"basicClinAndMutationsPerMSSOf\\_**sample id**.tsv\"\n",
    "    \n",
    "\n",
    "1. Table that lists genes that are mutated more than once (even twice in one sample).\n",
    "2. Table that lists  mutations that are identical in more than one sample (can't occur twice in one sample).\n",
    "\n",
    "Format is:\n",
    "\n",
    "\n",
    "```\n",
    "MSS_ID  gene1 gene2 gene3\n",
    "mss1    0     0     0\n",
    "mss2    0     1     2\n",
    "...\n",
    "mss6    0     1     0\n",
    "```\n",
    "\n",
    "The count for each mss/gene or mutation pair is how many times that gene or mutation appears in that sample.\n",
    "For mutations, this will always be 0 or 1.\n",
    "\n",
    "If there are no mutations / samples at all, the file will simply contain \"MSS_ID\".\n",
    "Not all samples will necessarily appear in these files; if a sample does appear, all its entries might be 0.\n",
    "\n",
    "\n",
    "&#8203;3. This TSV table contains the columns:\n",
    "Sample ID Disease Type Age at Dx (Years) Mutations in Cancer Genes\n",
    "\n",
    "Mutations column is taken word-for-word from TCGA_NonSilentMutationsInCancerGenesBySample.txt .\n",
    "\n",
    "All MSS of the sample will appear whether there is any data for them or not.\n",
    "\n",
    "JSON Output format:\n",
    "j[\"mss_multi_genes\"] :\n",
    "For each gene, lists each sample and the count of mutations for the gene in that sample.\n",
    "Omits samples that were not listed in the mutation reference file.\n",
    "\n",
    "`{ Gene: { sample1 : 0, sample2: 2, sample3: 1}, Gene: ... }`\n",
    "\n",
    "j[\"mss_multi_mutations\"]:\n",
    "For each mutation, lists each sample, with 1 if the sample had that mutation and 0 if it did not. Omits samples that were not listed in the mutation reference file.\n",
    "\n",
    "`{ Mutation: { sample1 : 0, sample2: 1, sample3: 1}, Mutation: ... }`\n",
    "\n",
    "#### Inputs\n",
    "Depends on steps:\n",
    "* 2.0\n",
    "    - json tumormap_results"
   ]
  },
  {
   "cell_type": "code",
   "execution_count": null,
   "metadata": {
    "collapsed": false,
    "deletable": true,
    "editable": true
   },
   "outputs": [],
   "source": [
    "import json\n",
    "import logging\n",
    "import os\n",
    "import csv\n",
    "import pandas as pd\n",
    "import collections # for Counter\n",
    "\n",
    "\n",
    "# Setup: load conf, retrieve sample ID, logging\n",
    "with open(\"conf.json\",\"r\") as conf:\n",
    "    c=json.load(conf)\n",
    "sample_id = c[\"sample_id\"]    \n",
    "print(\"Running on sample: {}\".format(sample_id))\n",
    "\n",
    "logging.basicConfig(**c[\"info\"][\"logging_config\"])\n",
    "logging.info(\"\\n2.6: Most Similar Sample Mutation Data\")\n",
    "def and_log(s):\n",
    "    logging.info(s)\n",
    "    return s\n",
    "\n",
    "j = {}"
   ]
  },
  {
   "cell_type": "code",
   "execution_count": null,
   "metadata": {
    "collapsed": false,
    "deletable": true,
    "editable": true
   },
   "outputs": [],
   "source": [
    "# Load the most similar samples (mss)\n",
    "\n",
    "with open(c[\"json\"][\"2.0\"],\"r\") as jf:\n",
    "        mss = set(json.load(jf)[\"tumormap_results\"].keys())\n",
    "\n",
    "# Drop any self-sample appearing in neighbors\n",
    "mss.discard(c[\"info\"][\"id_for_tumormap\"])\n",
    "\n",
    "print \"Most similar samples for {}:\".format(sample_id)\n",
    "print \"\\n\".join(mss)"
   ]
  },
  {
   "cell_type": "code",
   "execution_count": null,
   "metadata": {
    "collapsed": false,
    "deletable": true,
    "editable": true
   },
   "outputs": [],
   "source": [
    "# A mutation is one of the following:\n",
    "# \"noNonSilentMutations\"\n",
    "# GENE_p.LOCATION\n",
    "# GENE_OTHER_MUTATION_STRING\n",
    "# A gene may have multiple mutations, except noNonSilentMutations may only appear alone\n",
    "\n",
    "def split_mutation(mut):\n",
    "    if(mut == \"noNonSilentMutations\"):\n",
    "        return {}\n",
    "    (gene, mutation) = mut.split(\"_\", 1)\n",
    "    return { \"gene\":gene, \"mutation\":mutation}\n",
    "\n",
    "def join_mutation(mut_dict):\n",
    "    if(mut_dict == {}):\n",
    "        return \"noNonSilentMutations\"\n",
    "    return \"_\".join([mut_dict[\"gene\"], mut_dict[\"mutation\"]])"
   ]
  },
  {
   "cell_type": "code",
   "execution_count": null,
   "metadata": {
    "collapsed": false,
    "deletable": true,
    "editable": true
   },
   "outputs": [],
   "source": [
    "# Use this to test that the mutation list parses. Will not run in normal execution of the script. Prints much output!\n",
    "if(False):\n",
    "    sample_mutations = {}\n",
    "    mutation_file = c[\"ref_file\"][\"TCGA_non_silent_cancer_mutations_by_sample\"]\n",
    "    with open(mutation_file, \"r\") as f:\n",
    "        reader = csv.DictReader(f, dialect='excel-tab')\n",
    "        for row in reader:\n",
    "            sample = row[\"sample\"]\n",
    "            muts = row[\"geneAndProtein_Change\"].split(\", \")\n",
    "            sample_mutations[sample] = map(split_mutation, muts)\n",
    "\n",
    "    for s in sample_mutations.keys():\n",
    "        print s\n",
    "        print \", \".join(map(lambda x: join_mutation(x), sample_mutations[s]))"
   ]
  },
  {
   "cell_type": "code",
   "execution_count": null,
   "metadata": {
    "collapsed": false,
    "deletable": true,
    "editable": true
   },
   "outputs": [],
   "source": [
    "# Load the reference file\n",
    "mutation_file = c[\"ref_file\"][\"TCGA_non_silent_cancer_mutations_by_sample\"]\n",
    "print(\"Using the following mutation list:\")\n",
    "!md5sum $mutation_file\n",
    "\n",
    "sample_mutations = {}\n",
    "\n",
    "# Add all MSS samples' mutations to the mutations list\n",
    "# format: { sample_id : [{gene:GENE, mutation:MUTATION}]}\n",
    "with open(mutation_file, \"r\") as f:\n",
    "    reader = csv.DictReader(f, dialect='excel-tab')\n",
    "    for row in reader:\n",
    "        sample = row[\"sample\"]\n",
    "        # V3 only -- add ckcc_reference prefix to match v3 sample id format\n",
    "        if(c[\"tumormap\"][\"info\"][\"name\"] == \"v3\"):\n",
    "            sample = \"ckcc_reference/{}\".format(sample)\n",
    "        muts = row[\"geneAndProtein_Change\"].split(\", \")\n",
    "        if sample in mss:\n",
    "            print \"Found mutation entry for {}\".format(sample)\n",
    "            sample_mutations[sample] = map(split_mutation, muts)\n"
   ]
  },
  {
   "cell_type": "code",
   "execution_count": null,
   "metadata": {
    "collapsed": false,
    "deletable": true,
    "editable": true
   },
   "outputs": [],
   "source": [
    "if(not sample_mutations):\n",
    "    print and_log(\"None of the MSS for this sample appeared in the mutation list.\")"
   ]
  },
  {
   "cell_type": "code",
   "execution_count": null,
   "metadata": {
    "collapsed": false,
    "deletable": true,
    "editable": true
   },
   "outputs": [],
   "source": [
    "# generate 3. \"basicClinAndMutationsPerMSSOf\\_**sample id**.tsv\"\n",
    "# This TSV table contains the columns:\n",
    "# Sample ID  | Disease Type | Age at Dx (Years) | Mutations in Cancer Genes\n",
    "\n",
    "# open clinical essential file & get our samples & desired columns\n",
    "# since this is for the MSS, use the tumormap version instead of outlier\n",
    "clin_essential = pd.read_csv(c[\"tumormap\"][\"essential_clinical\"], sep=\"\\t\",index_col=\"th_sampleid\", dtype=\"str\")\n",
    "# Add a blank age_at_dx column if not present\n",
    "if not \"age_at_dx\" in clin_essential.columns:\n",
    "    clin_essential[\"age_at_dx\"] = \"\"\n",
    "\n",
    "selected_clin = clin_essential[clin_essential.index.isin(mss)][[\"disease\",\"age_at_dx\"]].copy()\n",
    "# Add rows for any that are missing from the clinical file\n",
    "selected_clin = selected_clin.reindex(pd.Index(mss).union(selected_clin.index))\n",
    "# Add the mutation column\n",
    "mutations_for_printing = {}\n",
    "for k, v in sample_mutations.iteritems():\n",
    "    mutations_for_printing[k] = \", \".join(map(lambda x: join_mutation(x), v))\n",
    "selected_clin[\"Mutations in Cancer Genes\"] = pd.Series(mutations_for_printing)\n",
    "# Rename columns per spec\n",
    "selected_clin.rename(columns={\n",
    "    \"disease\":\"Disease Type\",\n",
    "    \"age_at_dx\":\"Age at Dx (Years)\"\n",
    "    },inplace=True)\n",
    "\n",
    "print(\"Basic Clinical Data and Mutations\")\n",
    "selected_clin"
   ]
  },
  {
   "cell_type": "code",
   "execution_count": null,
   "metadata": {
    "collapsed": false,
    "deletable": true,
    "editable": true
   },
   "outputs": [],
   "source": [
    "# Then, calculate the multi-gene and multi-mutation files \n",
    "\n",
    "# Check for genes and mutations that appear more than once\n",
    "all_genes = collections.Counter() # { gene : overall count of that gene }\n",
    "all_mutations = collections.Counter()\n",
    "\n",
    "for k,v in sample_mutations.iteritems():\n",
    "    if v == [{}]: # Mutation was noNonSilentMutations , never appears w other mutations\n",
    "        continue\n",
    "    all_genes.update(map(lambda x: x[\"gene\"], v))\n",
    "    all_mutations.update(map(join_mutation, v))\n",
    "    \n",
    "# Fetch genes & mutations that appear more than once and\n",
    "# set their count to 0 to use as a template for counting per-sample appearances\n",
    "multiply_appearing_genes = {k:0 for k,v in all_genes.iteritems() if v >= 2}\n",
    "multiply_appearing_mutations = {k:0 for k,v in all_mutations.iteritems() if v >= 2}"
   ]
  },
  {
   "cell_type": "code",
   "execution_count": null,
   "metadata": {
    "collapsed": false,
    "deletable": true,
    "editable": true
   },
   "outputs": [],
   "source": [
    "print(\"Genes appearing more than once:\\n\")\n",
    "print \"\\n\".join(multiply_appearing_genes.keys())\n",
    "print(\"\\nMutations appearing more than once:\\n\")\n",
    "print \"\\n\".join(multiply_appearing_mutations.keys())"
   ]
  },
  {
   "cell_type": "code",
   "execution_count": null,
   "metadata": {
    "collapsed": false,
    "deletable": true,
    "editable": true
   },
   "outputs": [],
   "source": [
    "# Then, construct the table of samples to multigenes, getting for each sample\n",
    "# the count of appearances of multigenes in that sample\n",
    "multiplyMutatedGenesPerMSS = {}  # sample : { gene1: 1, gene2: 0, gene3:0, gene4: 2}\n",
    "multiplyAppearingMutationsPerMSS = {}\n",
    "\n",
    "for s, mutations in sample_mutations.iteritems():\n",
    "    multiplyMutatedGenesPerMSS[s] = multiply_appearing_genes.copy()\n",
    "    multiplyAppearingMutationsPerMSS[s] = multiply_appearing_mutations.copy()\n",
    "    if mutations == [{}]: # Mutation was noNonSilentMutations \n",
    "        continue\n",
    "    for mutation in mutations:\n",
    "        if(mutation[\"gene\"] in multiply_appearing_genes):\n",
    "            multiplyMutatedGenesPerMSS[s][mutation[\"gene\"]] += 1\n",
    "        if join_mutation(mutation) in multiply_appearing_mutations:\n",
    "            multiplyAppearingMutationsPerMSS[s][join_mutation(mutation)] += 1\n"
   ]
  },
  {
   "cell_type": "code",
   "execution_count": null,
   "metadata": {
    "collapsed": false,
    "deletable": true,
    "editable": true
   },
   "outputs": [],
   "source": [
    "# Translate genes and mutations dicts to data frames\n",
    "genes_df = pd.DataFrame.from_dict(data=multiplyMutatedGenesPerMSS, orient=\"index\")\n",
    "mutations_df = pd.DataFrame.from_dict(data=multiplyAppearingMutationsPerMSS, orient=\"index\")\n",
    "genes_df.index.name=mutations_df.index.name=\"MSS_ID\"\n",
    "\n",
    "# If they're empty, set the index to \"none found\" so the file will contain that instead of just \"MSS_ID\"\n",
    "if(mutations_df.shape == (0,0)):\n",
    "    mutations_df.index.name = \"none found\"\n",
    "if(genes_df.shape == (0,0)):\n",
    "    genes_df.index.name = \"none found\""
   ]
  },
  {
   "cell_type": "code",
   "execution_count": null,
   "metadata": {
    "collapsed": false,
    "deletable": true,
    "editable": true
   },
   "outputs": [],
   "source": [
    "print(\"Multiply Mutated Genes per Most Similar Sample\")\n",
    "genes_df"
   ]
  },
  {
   "cell_type": "code",
   "execution_count": null,
   "metadata": {
    "collapsed": false,
    "deletable": true,
    "editable": true
   },
   "outputs": [],
   "source": [
    "print(\"Mutations Appearing More than Once in Most Similar Samples\")\n",
    "mutations_df"
   ]
  },
  {
   "cell_type": "code",
   "execution_count": null,
   "metadata": {
    "collapsed": false,
    "deletable": true,
    "editable": true
   },
   "outputs": [],
   "source": [
    "if (len(genes_df.index) == 0 ) and (len(mutations_df.index) == 0):\n",
    "    print and_log(\"No multiply-appearing mutations or genes were found!\")"
   ]
  },
  {
   "cell_type": "code",
   "execution_count": null,
   "metadata": {
    "collapsed": false,
    "deletable": true,
    "editable": true
   },
   "outputs": [],
   "source": [
    "# Save json\n",
    "j[\"mss_clin_and_mutations\"] = json.loads(selected_clin.to_json(orient='columns'))\n",
    "j[\"mss_multi_genes\"]=json.loads(genes_df.to_json(orient='columns'))\n",
    "j[\"mss_multi_mutations\"]=json.loads(mutations_df.to_json(orient='columns'))\n",
    "\n",
    "with open(c[\"json\"][\"2.6\"], \"w\") as jf:\n",
    "    json.dump(j, jf, indent=2)"
   ]
  },
  {
   "cell_type": "code",
   "execution_count": null,
   "metadata": {
    "collapsed": false,
    "deletable": true,
    "editable": true
   },
   "outputs": [],
   "source": [
    "print(\"Done!\")"
   ]
  }
 ],
 "metadata": {
  "kernelspec": {
   "display_name": "Python 2",
   "language": "python",
   "name": "python2"
  },
  "language_info": {
   "codemirror_mode": {
    "name": "ipython",
    "version": 2
   },
   "file_extension": ".py",
   "mimetype": "text/x-python",
   "name": "python",
   "nbconvert_exporter": "python",
   "pygments_lexer": "ipython2",
   "version": "2.7.12"
  }
 },
 "nbformat": 4,
 "nbformat_minor": 2
}
